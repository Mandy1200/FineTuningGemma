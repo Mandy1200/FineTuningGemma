{
 "cells": [
  {
   "cell_type": "code",
   "execution_count": 18,
   "id": "8140ff3e",
   "metadata": {},
   "outputs": [],
   "source": [
    "import numpy as np"
   ]
  },
  {
   "cell_type": "code",
   "execution_count": 19,
   "id": "0d14e436",
   "metadata": {},
   "outputs": [
    {
     "name": "stdout",
     "output_type": "stream",
     "text": [
      "Token: Virat, Embedding : [2.2 2.6 3.1]\n",
      "Token: Cricket, Embedding : [1.1 1.2 1.3]\n",
      "Token: England, Embedding : [1.6   2.1   0.234]\n"
     ]
    }
   ],
   "source": [
    "tok_virat = np.array([2.2,2.6,3.1])\n",
    "tok_crickt = np.array([1.1,1.2,1.3])\n",
    "tok_england = np.array([1.6,2.1,0.234])\n",
    "\n",
    "print(\"Token: Virat, Embedding :\",tok_virat)\n",
    "print(\"Token: Cricket, Embedding :\",tok_crickt)\n",
    "print(\"Token: England, Embedding :\",tok_england)"
   ]
  },
  {
   "cell_type": "code",
   "execution_count": 20,
   "id": "0120bb37",
   "metadata": {},
   "outputs": [
    {
     "name": "stdout",
     "output_type": "stream",
     "text": [
      "Weights for query transformation: [[0.69110627 0.70992561 0.83357316]\n",
      " [0.47315228 0.93144181 0.03186034]\n",
      " [0.18583097 0.95253952 0.14057417]]\n",
      "Weights for key transformation: [[0.68220537 0.75831566 0.33953483]\n",
      " [0.98549096 0.70534122 0.0875353 ]\n",
      " [0.3365128  0.02732681 0.10018593]]\n",
      "Weights for value transformation: [[0.33448906 0.21532255 0.12927451]\n",
      " [0.13128863 0.53416311 0.30061347]\n",
      " [0.61004817 0.50375565 0.73968931]]\n"
     ]
    }
   ],
   "source": [
    "w_v = np.random.rand(3,3)\n",
    "w_c = np.random.rand(3,3)\n",
    "w_e = np.random.rand(3,3)\n",
    "\n",
    "print(\"Weights for query transformation:\" , w_v)\n",
    "print(\"Weights for key transformation:\" , w_c)\n",
    "print(\"Weights for value transformation:\" , w_e)"
   ]
  },
  {
   "cell_type": "code",
   "execution_count": 21,
   "id": "209bda6e",
   "metadata": {},
   "outputs": [
    {
     "name": "stdout",
     "output_type": "stream",
     "text": [
      "Query, key and value for cricket : \n",
      "Query for cricket [1.5695799  3.13694971 1.1379093 ]\n",
      "Key for Virat [5.10631799 3.58689475 1.2851448 ]\n",
      "Value for Virat [2.96837571 3.42417621 3.35903578]\n",
      "Key for Engalnd [3.2398036  2.7009161  0.75052338]\n",
      "Value for England [3.2398036  2.7009161  0.75052338]\n"
     ]
    }
   ],
   "source": [
    "query_cric = np.dot(tok_crickt,w_v)\n",
    "\n",
    "key_virat = np.dot(tok_virat,w_c)\n",
    "value_virat = np.dot(tok_virat,w_e)\n",
    "\n",
    "key_eng = np.dot(tok_england,w_c)\n",
    "value_eng = np.dot(tok_england,w_e)\n",
    "\n",
    "\n",
    "print(\"Query, key and value for cricket : \")\n",
    "print(\"Query for cricket\",query_cric)\n",
    "print(\"Key for Virat\",key_virat)\n",
    "print(\"Value for Virat\",value_virat)\n",
    "print(\"Key for Engalnd\",key_eng)\n",
    "print(\"Value for England\",key_eng)"
   ]
  },
  {
   "cell_type": "code",
   "execution_count": 22,
   "id": "d577e136",
   "metadata": {},
   "outputs": [
    {
     "name": "stdout",
     "output_type": "stream",
     "text": [
      "20.72906075282525\n",
      "14.411796123335792\n"
     ]
    }
   ],
   "source": [
    "simi_cric_virat = np.dot(query_cric,key_virat)\n",
    "simi_cric_england = np.dot(query_cric,key_eng)\n",
    "\n",
    "print(simi_cric_virat)\n",
    "print(simi_cric_england)"
   ]
  }
 ],
 "metadata": {
  "kernelspec": {
   "display_name": "Python 3",
   "language": "python",
   "name": "python3"
  },
  "language_info": {
   "codemirror_mode": {
    "name": "ipython",
    "version": 3
   },
   "file_extension": ".py",
   "mimetype": "text/x-python",
   "name": "python",
   "nbconvert_exporter": "python",
   "pygments_lexer": "ipython3",
   "version": "3.11.9"
  }
 },
 "nbformat": 4,
 "nbformat_minor": 5
}
